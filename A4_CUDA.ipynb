{
  "nbformat": 4,
  "nbformat_minor": 0,
  "metadata": {
    "colab": {
      "provenance": [],
      "gpuType": "T4"
    },
    "kernelspec": {
      "name": "python3",
      "display_name": "Python 3"
    },
    "language_info": {
      "name": "python"
    },
    "accelerator": "GPU"
  },
  "cells": [
    {
      "cell_type": "code",
      "source": [
        "%%writefile vec_add.cu\n",
        "#include <stdio.h>\n",
        "\n",
        "__global__ void vecAdd(float* A, float* B, float* C, int N){\n",
        "  int i = blockIdx.x * blockDim.x + threadIdx.x;\n",
        "  if(i < N){\n",
        "    C[i] = A[i] + B[i];\n",
        "  }\n",
        "}\n",
        "\n",
        "int main(){\n",
        "  int N = 9;\n",
        "  size_t s = N * sizeof(float);\n",
        "  float A[] = {\n",
        "    1,2,3,\n",
        "    4,5,6,\n",
        "    7,8,9\n",
        "  };\n",
        "\n",
        "  float B[] = {\n",
        "    9,8,7,\n",
        "    6,5,4,\n",
        "    3,2,1\n",
        "  };\n",
        "\n",
        "  float C[9];\n",
        "\n",
        "  float*d_A,*d_B,*d_C;\n",
        "  cudaMalloc(&d_A, s);\n",
        "  cudaMalloc(&d_B, s);\n",
        "  cudaMalloc(&d_C, s);\n",
        "\n",
        "  cudaMemcpy(d_A, A, s, cudaMemcpyHostToDevice);\n",
        "  cudaMemcpy(d_B, B, s, cudaMemcpyHostToDevice);\n",
        "\n",
        "  vecAdd<<<1,9>>>(d_A,d_B,d_C,N);\n",
        "\n",
        "  cudaMemcpy(C, d_C, s, cudaMemcpyDeviceToHost);\n",
        "\n",
        "  printf(\"Result vector = \\n\");\n",
        "  for(int i=0;i<3;i++){\n",
        "    for(int j=0;j<3;j++){\n",
        "      printf(\"%f \",C[i*3+j]);\n",
        "    }\n",
        "    printf(\"\\n\");\n",
        "  }\n",
        "\n",
        "  cudaFree(d_A);\n",
        "  cudaFree(d_B);\n",
        "  cudaFree(d_C);\n",
        "\n",
        "  return 0;\n",
        "\n",
        "}"
      ],
      "metadata": {
        "colab": {
          "base_uri": "https://localhost:8080/"
        },
        "id": "CDHNlqrZHO_M",
        "outputId": "be9c39ff-f10e-4f7a-9b65-15c9db7ff7ee"
      },
      "execution_count": null,
      "outputs": [
        {
          "output_type": "stream",
          "name": "stdout",
          "text": [
            "Overwriting vec_add.cu\n"
          ]
        }
      ]
    },
    {
      "cell_type": "code",
      "source": [
        "!nvcc -arch=sm_75 vec_add.cu -o vec"
      ],
      "metadata": {
        "id": "7LBzewwGKBTK"
      },
      "execution_count": null,
      "outputs": []
    },
    {
      "cell_type": "code",
      "source": [
        "!./vec"
      ],
      "metadata": {
        "colab": {
          "base_uri": "https://localhost:8080/"
        },
        "id": "9MiaKJXvKNyx",
        "outputId": "5cbcc975-206d-4f37-d0ad-c0d04c0f13d4"
      },
      "execution_count": null,
      "outputs": [
        {
          "output_type": "stream",
          "name": "stdout",
          "text": [
            "Result vector = \n",
            "10.000000 10.000000 10.000000 \n",
            "10.000000 10.000000 10.000000 \n",
            "10.000000 10.000000 10.000000 \n"
          ]
        }
      ]
    },
    {
      "cell_type": "code",
      "source": [
        "%%writefile vec_mul.cu\n",
        "#include <stdio.h>\n",
        "\n",
        "__global__ void vecMul(float*A, float*B, float*C, int N){\n",
        "  int col = blockIdx.x * blockDim.x + threadIdx.x;\n",
        "  int row = blockIdx.y * blockDim.y + threadIdx.y;\n",
        "  if(col<N && row<N){\n",
        "    float sum=0;\n",
        "    for(int k=0;k<N;k++){\n",
        "      sum += A[row*N+k]*B[k*N+col];\n",
        "    }\n",
        "    C[row*N+col] = sum;\n",
        "  }\n",
        "}\n",
        "\n",
        "int main(){\n",
        "  int N = 3;\n",
        "  size_t s = N*N*sizeof(float);\n",
        "\n",
        "  float A[] = {\n",
        "    1,2,3,\n",
        "    4,5,6,\n",
        "    7,8,9\n",
        "  };\n",
        "\n",
        "  float B[] = {\n",
        "    9,8,7,\n",
        "    6,5,4,\n",
        "    3,2,1\n",
        "  };\n",
        "\n",
        "  float C[9];\n",
        "\n",
        "  float *d_A, *d_B, *d_C;\n",
        "  cudaMalloc(&d_A, s);\n",
        "  cudaMalloc(&d_B, s);\n",
        "  cudaMalloc(&d_C, s);\n",
        "\n",
        "  cudaMemcpy(d_A, A, s, cudaMemcpyHostToDevice);\n",
        "  cudaMemcpy(d_B, B, s, cudaMemcpyHostToDevice);\n",
        "\n",
        "  dim3 threads(3,3);\n",
        "  dim3 blocks((N+2)/3, (N+2)/3);\n",
        "\n",
        "  vecMul<<<blocks,threads>>>(d_A,d_B,d_C,N);\n",
        "\n",
        "  cudaMemcpy(C, d_C, s, cudaMemcpyDeviceToHost);\n",
        "\n",
        "  printf(\"Result vector = \\n\");\n",
        "  for(int i=0;i<N;i++){\n",
        "    for(int j=0;j<N;j++){\n",
        "      printf(\"%f \",C[i*N+j]);\n",
        "    }\n",
        "    printf(\"\\n\");\n",
        "  }\n",
        "\n",
        "  cudaFree(d_A);\n",
        "  cudaFree(d_B);\n",
        "  cudaFree(d_C);\n",
        "\n",
        "  return 0;\n",
        "\n",
        "}"
      ],
      "metadata": {
        "colab": {
          "base_uri": "https://localhost:8080/"
        },
        "id": "cVexuA8OKuNi",
        "outputId": "8b674a16-b787-4b4e-9494-e5cb819ac145"
      },
      "execution_count": null,
      "outputs": [
        {
          "output_type": "stream",
          "name": "stdout",
          "text": [
            "Overwriting vec_mul.cu\n"
          ]
        }
      ]
    },
    {
      "cell_type": "code",
      "source": [
        "!nvcc -arch=sm_75 vec_mul.cu -o vec"
      ],
      "metadata": {
        "id": "DxdDb3AYOLG7"
      },
      "execution_count": null,
      "outputs": []
    },
    {
      "cell_type": "code",
      "source": [
        "!./vec"
      ],
      "metadata": {
        "colab": {
          "base_uri": "https://localhost:8080/"
        },
        "id": "r2gZzCK4OTA-",
        "outputId": "da33bb84-7dd5-4488-f7c4-2c07ab0718fc"
      },
      "execution_count": null,
      "outputs": [
        {
          "output_type": "stream",
          "name": "stdout",
          "text": [
            "Result vector = \n",
            "30.000000 24.000000 18.000000 \n",
            "84.000000 69.000000 54.000000 \n",
            "138.000000 114.000000 90.000000 \n"
          ]
        }
      ]
    },
    {
      "cell_type": "code",
      "source": [],
      "metadata": {
        "id": "yO5nHP48O5Gg"
      },
      "execution_count": null,
      "outputs": []
    }
  ]
}